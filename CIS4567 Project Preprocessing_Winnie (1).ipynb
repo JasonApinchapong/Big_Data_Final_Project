{
 "cells": [
  {
   "cell_type": "markdown",
   "metadata": {},
   "source": [
    "# Preprocessing - Youtube Videos"
   ]
  },
  {
   "cell_type": "markdown",
   "metadata": {},
   "source": [
    "### Objectives"
   ]
  },
  {
   "cell_type": "markdown",
   "metadata": {},
   "source": [
    "Our objective is: dslkjaldfgjsdf"
   ]
  },
  {
   "cell_type": "markdown",
   "metadata": {},
   "source": [
    "### Data Description"
   ]
  },
  {
   "cell_type": "markdown",
   "metadata": {},
   "source": [
    "dkfgkdjhskgh"
   ]
  },
  {
   "cell_type": "code",
   "execution_count": 1,
   "metadata": {
    "scrolled": true
   },
   "outputs": [
    {
     "data": {
      "application/vnd.jupyter.widget-view+json": {
       "model_id": "beb7777f43614e01b3837cfde84a0b08",
       "version_major": 2,
       "version_minor": 0
      },
      "text/plain": [
       "VBox()"
      ]
     },
     "metadata": {},
     "output_type": "display_data"
    },
    {
     "name": "stdout",
     "output_type": "stream",
     "text": [
      "Starting Spark application\n"
     ]
    },
    {
     "data": {
      "text/html": [
       "<table>\n",
       "<tr><th>ID</th><th>YARN Application ID</th><th>Kind</th><th>State</th><th>Spark UI</th><th>Driver log</th><th>Current session?</th></tr><tr><td>1</td><td>application_1587565607163_0002</td><td>pyspark</td><td>idle</td><td><a target=\"_blank\" href=\"http://ip-172-31-31-186.ec2.internal:20888/proxy/application_1587565607163_0002/\">Link</a></td><td><a target=\"_blank\" href=\"http://ip-172-31-23-69.ec2.internal:8042/node/containerlogs/container_1587565607163_0002_01_000001/livy\">Link</a></td><td>✔</td></tr></table>"
      ],
      "text/plain": [
       "<IPython.core.display.HTML object>"
      ]
     },
     "metadata": {},
     "output_type": "display_data"
    },
    {
     "data": {
      "application/vnd.jupyter.widget-view+json": {
       "model_id": "",
       "version_major": 2,
       "version_minor": 0
      },
      "text/plain": [
       "FloatProgress(value=0.0, bar_style='info', description='Progress:', layout=Layout(height='25px', width='50%'),…"
      ]
     },
     "metadata": {},
     "output_type": "display_data"
    },
    {
     "name": "stdout",
     "output_type": "stream",
     "text": [
      "SparkSession available as 'spark'.\n"
     ]
    },
    {
     "data": {
      "application/vnd.jupyter.widget-view+json": {
       "model_id": "",
       "version_major": 2,
       "version_minor": 0
      },
      "text/plain": [
       "FloatProgress(value=0.0, bar_style='info', description='Progress:', layout=Layout(height='25px', width='50%'),…"
      ]
     },
     "metadata": {},
     "output_type": "display_data"
    },
    {
     "name": "stdout",
     "output_type": "stream",
     "text": [
      "'2.4.4'"
     ]
    }
   ],
   "source": [
    "import pyspark\n",
    "sc.version"
   ]
  },
  {
   "cell_type": "code",
   "execution_count": 2,
   "metadata": {},
   "outputs": [
    {
     "data": {
      "application/vnd.jupyter.widget-view+json": {
       "model_id": "1dc31e1ff14c4027b141583bd0755446",
       "version_major": 2,
       "version_minor": 0
      },
      "text/plain": [
       "VBox()"
      ]
     },
     "metadata": {},
     "output_type": "display_data"
    },
    {
     "data": {
      "application/vnd.jupyter.widget-view+json": {
       "model_id": "",
       "version_major": 2,
       "version_minor": 0
      },
      "text/plain": [
       "FloatProgress(value=0.0, bar_style='info', description='Progress:', layout=Layout(height='25px', width='50%'),…"
      ]
     },
     "metadata": {},
     "output_type": "display_data"
    }
   ],
   "source": [
    "#Read and load csv file\n",
    "df = (\n",
    "spark\n",
    ".read\n",
    ".csv(\n",
    "#'s3://cis4567-winniechan/Spark/Dataset/YoutubeData.csv'\n",
    "'s3://cis4567-apinchapong/Final_Project/YoutubeData.csv'\n",
    ", header=True\n",
    ", inferSchema=True)\n",
    ")"
   ]
  },
  {
   "cell_type": "code",
   "execution_count": 3,
   "metadata": {},
   "outputs": [
    {
     "data": {
      "application/vnd.jupyter.widget-view+json": {
       "model_id": "fb6ecb557e504c3790ae6b43c0730543",
       "version_major": 2,
       "version_minor": 0
      },
      "text/plain": [
       "VBox()"
      ]
     },
     "metadata": {},
     "output_type": "display_data"
    },
    {
     "data": {
      "application/vnd.jupyter.widget-view+json": {
       "model_id": "",
       "version_major": 2,
       "version_minor": 0
      },
      "text/plain": [
       "FloatProgress(value=0.0, bar_style='info', description='Progress:', layout=Layout(height='25px', width='50%'),…"
      ]
     },
     "metadata": {},
     "output_type": "display_data"
    },
    {
     "name": "stdout",
     "output_type": "stream",
     "text": [
      "+-----------+-------------+-------------------------------------+--------------------------+------------+-----------+------------+--------------------+-------+------+--------+-------------+--------------------+-----------------+----------------+----------------------+--------------------+--------------------+-------------+\n",
      "|   video_id|trending_date|                                title|             channel_title|publish_date|category_id|publish_time|                tags|  views| likes|dislikes|comment_count|      thumbnail_link|comments_disabled|ratings_disabled|video_error_or_removed|         description|       category_name|       region|\n",
      "+-----------+-------------+-------------------------------------+--------------------------+------------+-----------+------------+--------------------+-------+------+--------+-------------+--------------------+-----------------+----------------+----------------------+--------------------+--------------------+-------------+\n",
      "|hLqHZGhIFaI|   2017-12-23|                 FIVE LAST MINUTE ...|              Megan Ellaby|  2017-12-14|         22|    16:10:52|\"fashion|\"\"style\"...|  23519|   683|      23|           42|https://i.ytimg.c...|            False|           False|                 False|Christmas is gett...|      People & Blogs| Great Britan|\n",
      "|7N3ERfi6WHM|   2017-12-08|                 JURASSIC WORLD 2:...|        FilmSelect Trailer|  2017-12-08|         24|    01:48:02|\"trailer|\"\"2018\"\"...| 285940|  4592|     185|          731|https://i.ytimg.c...|            False|           False|                 False|Here is the first...|       Entertainment|       Canada|\n",
      "|KSkyxpieUI0|   2017-12-04|                 Alistair Overeem ...|               BLACK TIGER|  2017-12-03|         17|    05:06:13|\"Alistair Overeem...| 534912|  1250|     139|         1084|https://i.ytimg.c...|            False|           False|                 False|Alistair Overeem ...|              Sports|      Germany|\n",
      "|Vz1GJUuYzJc|   2018-01-14|                 17 TRUCOS DE MANU...|        IDEAS EN 5 MINUTOS|  2018-01-13|         26|    12:00:02|\"tips|\"\"belleza\"\"...|  46423|  1077|      62|           40|https://i.ytimg.c...|            False|           False|                 False|Manualidades crea...|       Howto & Style|       Mexico|\n",
      "|e1zA-Bk50XI|   2018-04-27|                 Maple Leafs Post-...|       Toronto Maple Leafs|  2018-04-26|         17|    03:25:21|\"Toronto|\"\"Toront...|  37107|   263|      46|          291|https://i.ytimg.c...|            False|           False|                 False|Head coach Mike B...|              Sports|       Canada|\n",
      "|IS8H4yVjAlo|   2018-05-01|                 Beginning Of The ...|                Jordindian|  2018-04-27|         24|    08:48:31|\"jordindian|\"\"end...|1048816| 49881|    1108|         3528|https://i.ytimg.c...|            False|           False|                 False|What celebs call ...|       Entertainment|        India|\n",
      "|DMVDscrGOtA|   2018-02-18|                 ë¶í ëíë¨ì...|               ì¡°ê°ì TV|  2018-02-15|         25|    10:28:55|\"ì¡°ê°ì |\"\"ì¡°ê...| 106858|  3725|     128|          288|https://i.ytimg.c...|            False|           False|                 False|                null|     News & Politics|  South Korea|\n",
      "|1qwX0d_G2wo|   2017-11-30|前总政主任张阳蹊跷离世藏疑团，暗黑...|文昭談古論今 -Wen Zhao ...|  2017-11-28|         25|    21:07:01|              [none]| 120798|   769|      65|          343|https://i.ytimg.c...|            False|           False|                 False|                null|     News & Politics|       Canada|\n",
      "|NPfKBQLLoBI|   2017-12-23|                 Ð£Ð¢Ð Ð Ñ ÐÐÐ...|           Veniamin Nikora|  2017-12-22|         29|    09:35:29|\"Ð¿Ð°ÑÐ¸Ð¶|\"\"Ð³Ð...|  20548|   909|      34|          210|https://i.ytimg.c...|            False|           False|                 False|Ð¡Ð¾Ð»Ð½ÑÐµ Ð²Ñ...|                null|       Russia|\n",
      "|pX2j3QCVK-o|   2018-04-18|                 Lebe dein Leben ....|              Elli Schramm|  2018-04-17|         24|    13:12:23|\"Guten Morgen Gru...|   6757|     0|       0|           41|https://i.ytimg.c...|            False|            True|                 False|Hör auf dein Herz...|       Entertainment|      Germany|\n",
      "|vjSohj-Iclc|   2018-06-09|                 Getting some air,...|            BostonDynamics|  2018-05-10|         28|    19:56:28|\"Dynamic robots|\"...|6742267| 86552|    3128|        13459|https://i.ytimg.c...|            False|           False|                 False|                null|Science & Technology| Great Britan|\n",
      "|P4nI9_7vK4Y|   2018-02-20|                 SISMO 6.0 RICHTER...|                       TV1|  2018-02-19|         25|    07:21:07|            Noticias|  20185|   116|       6|           40|https://i.ytimg.c...|            False|           False|                 False|La estaciÃ³n mÃ¡s...|     News & Politics|       Mexico|\n",
      "|PEBy3aegIvE|   2018-04-03|                 ãã¹ãã¨ - ã...|          PASSEPIEDChannel|  2018-04-02|         10|    15:00:06|\"ãã¹ãã¨|\"\"P...|  15399|  1094|       9|          141|https://i.ytimg.c...|            False|           False|                 False|â ãã¹ãã¨ã...|               Music|        Japan|\n",
      "|liqwiljySGs|   2017-11-27|                 25/11/2017/Ð¡Ð Ð...|            GOLDEN SECTION|  2017-11-25|         29|    12:59:31|\"Ð¡Ð ÐÐ§ÐÐ!!|\"...| 153451|   360|     226|          198|https://i.ytimg.c...|            False|           False|                 False|25/11/2017/Ð¡Ð Ð...|                null|       Russia|\n",
      "|p1DAEZNyJ8E|   2018-05-08|                 Avengers: Infinit...|      Marvel Studios Mo...|  2018-04-22|         29|    23:21:45|\"Avengers: Infini...|2626914| 57320|    1050|         5164|https://i.ytimg.c...|            False|           False|                 False|                null|                null| Great Britan|\n",
      "|kZUxD_pEqgg|   2018-06-04|                 SANJU: Main Badhi...|                  T-Series|  2018-06-03|         10|    05:30:50|\"ranbir kapoor|\"\"...|4774119|120438|   12833|         9825|https://i.ytimg.c...|            False|           False|                 False|At the start of S...|               Music|        India|\n",
      "|0h-kHHurkBQ|   2018-02-26|                 Akhiyaan Naar Diy...|      T-Series Apna Punjab|  2018-02-24|         10|    04:34:34|\"Akhiyaan Naar Di...| 976330| 16471|     639|          562|https://i.ytimg.c...|            False|           False|                 False|Presenting second...|               Music|       Canada|\n",
      "|mjBIsBPG1N8|   2017-11-17|                 Every Snack I'm P...|                    Klossy|  2017-11-16|         22|    15:23:10|\"victoria secret ...|  76491|  3849|      95|          217|https://i.ytimg.c...|            False|           False|                 False|This video isn't ...|      People & Blogs|United States|\n",
      "|gy9HLNIB1XE|   2018-05-10|                 પહેલી વાર કિંજલ દ...|           King Of Gujarat|  2018-05-08|         25|    14:00:06|\"kinjal dave|\"\"ki...| 105128|   286|      79|            9|https://i.ytimg.c...|            False|           False|                 False|પહેલી વાર કિંજલ દ...|     News & Politics|        India|\n",
      "|CU8qwXYH83c|   2018-04-07|                 Emily Blunt Tells...|      Late Night with S...|  2018-04-04|         23|    10:00:01|\"Late Night|\"\"Set...|1831572| 20254|     530|          724|https://i.ytimg.c...|            False|           False|                 False|Emily Blunt revea...|              Comedy|United States|\n",
      "+-----------+-------------+-------------------------------------+--------------------------+------------+-----------+------------+--------------------+-------+------+--------+-------------+--------------------+-----------------+----------------+----------------------+--------------------+--------------------+-------------+\n",
      "only showing top 20 rows"
     ]
    }
   ],
   "source": [
    "df.show()"
   ]
  },
  {
   "cell_type": "code",
   "execution_count": null,
   "metadata": {},
   "outputs": [],
   "source": []
  },
  {
   "cell_type": "code",
   "execution_count": 4,
   "metadata": {},
   "outputs": [
    {
     "data": {
      "application/vnd.jupyter.widget-view+json": {
       "model_id": "8899028bc1ed417284cef085e33cffdd",
       "version_major": 2,
       "version_minor": 0
      },
      "text/plain": [
       "VBox()"
      ]
     },
     "metadata": {},
     "output_type": "display_data"
    },
    {
     "data": {
      "application/vnd.jupyter.widget-view+json": {
       "model_id": "",
       "version_major": 2,
       "version_minor": 0
      },
      "text/plain": [
       "FloatProgress(value=0.0, bar_style='info', description='Progress:', layout=Layout(height='25px', width='50%'),…"
      ]
     },
     "metadata": {},
     "output_type": "display_data"
    },
    {
     "name": "stdout",
     "output_type": "stream",
     "text": [
      "416869"
     ]
    }
   ],
   "source": [
    "#Count the number of rows\n",
    "df.count()"
   ]
  },
  {
   "cell_type": "code",
   "execution_count": 5,
   "metadata": {},
   "outputs": [
    {
     "data": {
      "application/vnd.jupyter.widget-view+json": {
       "model_id": "f09a55ab9a93480fad8601cc5b47c87a",
       "version_major": 2,
       "version_minor": 0
      },
      "text/plain": [
       "VBox()"
      ]
     },
     "metadata": {},
     "output_type": "display_data"
    },
    {
     "data": {
      "application/vnd.jupyter.widget-view+json": {
       "model_id": "",
       "version_major": 2,
       "version_minor": 0
      },
      "text/plain": [
       "FloatProgress(value=0.0, bar_style='info', description='Progress:', layout=Layout(height='25px', width='50%'),…"
      ]
     },
     "metadata": {},
     "output_type": "display_data"
    },
    {
     "name": "stdout",
     "output_type": "stream",
     "text": [
      "19"
     ]
    }
   ],
   "source": [
    "#show the number of columns\n",
    "len(df.columns)"
   ]
  },
  {
   "cell_type": "code",
   "execution_count": 6,
   "metadata": {},
   "outputs": [
    {
     "data": {
      "application/vnd.jupyter.widget-view+json": {
       "model_id": "13a04e9c4aa3432095325d1e3baf07d1",
       "version_major": 2,
       "version_minor": 0
      },
      "text/plain": [
       "VBox()"
      ]
     },
     "metadata": {},
     "output_type": "display_data"
    },
    {
     "data": {
      "application/vnd.jupyter.widget-view+json": {
       "model_id": "",
       "version_major": 2,
       "version_minor": 0
      },
      "text/plain": [
       "FloatProgress(value=0.0, bar_style='info', description='Progress:', layout=Layout(height='25px', width='50%'),…"
      ]
     },
     "metadata": {},
     "output_type": "display_data"
    },
    {
     "name": "stdout",
     "output_type": "stream",
     "text": [
      "['video_id', 'trending_date', 'title', 'channel_title', 'publish_date', 'category_id', 'publish_time', 'tags', 'views', 'likes', 'dislikes', 'comment_count', 'thumbnail_link', 'comments_disabled', 'ratings_disabled', 'video_error_or_removed', 'description', 'category_name', 'region']"
     ]
    }
   ],
   "source": [
    "df.columns"
   ]
  },
  {
   "cell_type": "markdown",
   "metadata": {},
   "source": [
    "### Finding Duplicates"
   ]
  },
  {
   "cell_type": "code",
   "execution_count": 7,
   "metadata": {},
   "outputs": [
    {
     "data": {
      "application/vnd.jupyter.widget-view+json": {
       "model_id": "8603b5f6654c4e27b2a7178a51c4a5c5",
       "version_major": 2,
       "version_minor": 0
      },
      "text/plain": [
       "VBox()"
      ]
     },
     "metadata": {},
     "output_type": "display_data"
    },
    {
     "data": {
      "application/vnd.jupyter.widget-view+json": {
       "model_id": "",
       "version_major": 2,
       "version_minor": 0
      },
      "text/plain": [
       "FloatProgress(value=0.0, bar_style='info', description='Progress:', layout=Layout(height='25px', width='50%'),…"
      ]
     },
     "metadata": {},
     "output_type": "display_data"
    },
    {
     "name": "stdout",
     "output_type": "stream",
     "text": [
      "(416869, 368752)"
     ]
    }
   ],
   "source": [
    "#This shows the number of rows v the number of distinct rows\n",
    "df.count(), df.distinct().count()"
   ]
  },
  {
   "cell_type": "code",
   "execution_count": 8,
   "metadata": {},
   "outputs": [
    {
     "data": {
      "application/vnd.jupyter.widget-view+json": {
       "model_id": "002e0b29e8eb4d44b824a7730daeb64a",
       "version_major": 2,
       "version_minor": 0
      },
      "text/plain": [
       "VBox()"
      ]
     },
     "metadata": {},
     "output_type": "display_data"
    },
    {
     "data": {
      "application/vnd.jupyter.widget-view+json": {
       "model_id": "",
       "version_major": 2,
       "version_minor": 0
      },
      "text/plain": [
       "FloatProgress(value=0.0, bar_style='info', description='Progress:', layout=Layout(height='25px', width='50%'),…"
      ]
     },
     "metadata": {},
     "output_type": "display_data"
    },
    {
     "name": "stdout",
     "output_type": "stream",
     "text": [
      "368752"
     ]
    }
   ],
   "source": [
    "#Dropping the duplicated rows\n",
    "no_duplicates= df.dropDuplicates()\n",
    "no_duplicates.count()"
   ]
  },
  {
   "cell_type": "markdown",
   "metadata": {},
   "source": [
    "#### Removing duplicates where only video_id differs"
   ]
  },
  {
   "cell_type": "code",
   "execution_count": 9,
   "metadata": {},
   "outputs": [
    {
     "data": {
      "application/vnd.jupyter.widget-view+json": {
       "model_id": "9e48669a809e42dd9760896a48d0a5b0",
       "version_major": 2,
       "version_minor": 0
      },
      "text/plain": [
       "VBox()"
      ]
     },
     "metadata": {},
     "output_type": "display_data"
    },
    {
     "data": {
      "application/vnd.jupyter.widget-view+json": {
       "model_id": "",
       "version_major": 2,
       "version_minor": 0
      },
      "text/plain": [
       "FloatProgress(value=0.0, bar_style='info', description='Progress:', layout=Layout(height='25px', width='50%'),…"
      ]
     },
     "metadata": {},
     "output_type": "display_data"
    },
    {
     "name": "stdout",
     "output_type": "stream",
     "text": [
      "(368752, 364423)"
     ]
    }
   ],
   "source": [
    "#Compare no_duplicates with different_ids, where the row has identical data besides video_id\n",
    "different_ids = (\n",
    "    no_duplicates\n",
    "    .select([col for col in no_duplicates.columns if col != 'video_id'])\n",
    ")\n",
    "\n",
    "different_ids.count(), different_ids.distinct().count()"
   ]
  },
  {
   "cell_type": "code",
   "execution_count": 10,
   "metadata": {},
   "outputs": [
    {
     "data": {
      "application/vnd.jupyter.widget-view+json": {
       "model_id": "817b7eb8ef4a412484e6e6e4b2aa4603",
       "version_major": 2,
       "version_minor": 0
      },
      "text/plain": [
       "VBox()"
      ]
     },
     "metadata": {},
     "output_type": "display_data"
    },
    {
     "data": {
      "application/vnd.jupyter.widget-view+json": {
       "model_id": "",
       "version_major": 2,
       "version_minor": 0
      },
      "text/plain": [
       "FloatProgress(value=0.0, bar_style='info', description='Progress:', layout=Layout(height='25px', width='50%'),…"
      ]
     },
     "metadata": {},
     "output_type": "display_data"
    }
   ],
   "source": [
    "#remove the duplicated records\n",
    "no_duplicated_rows = no_duplicates.dropDuplicates(\n",
    "    subset = [col for col in no_duplicates.columns if col != 'video_id']\n",
    ")"
   ]
  },
  {
   "cell_type": "code",
   "execution_count": 11,
   "metadata": {},
   "outputs": [
    {
     "data": {
      "application/vnd.jupyter.widget-view+json": {
       "model_id": "de72b57e63334a76b2d12c5bbf154408",
       "version_major": 2,
       "version_minor": 0
      },
      "text/plain": [
       "VBox()"
      ]
     },
     "metadata": {},
     "output_type": "display_data"
    },
    {
     "data": {
      "application/vnd.jupyter.widget-view+json": {
       "model_id": "",
       "version_major": 2,
       "version_minor": 0
      },
      "text/plain": [
       "FloatProgress(value=0.0, bar_style='info', description='Progress:', layout=Layout(height='25px', width='50%'),…"
      ]
     },
     "metadata": {},
     "output_type": "display_data"
    },
    {
     "name": "stdout",
     "output_type": "stream",
     "text": [
      "364423"
     ]
    }
   ],
   "source": [
    "#count the number of rows for no_duplicated_rows\n",
    "no_duplicated_rows.count()"
   ]
  },
  {
   "cell_type": "code",
   "execution_count": 12,
   "metadata": {},
   "outputs": [
    {
     "data": {
      "application/vnd.jupyter.widget-view+json": {
       "model_id": "4909c75e37c24cb0a1ff65f689a48a18",
       "version_major": 2,
       "version_minor": 0
      },
      "text/plain": [
       "VBox()"
      ]
     },
     "metadata": {},
     "output_type": "display_data"
    },
    {
     "data": {
      "application/vnd.jupyter.widget-view+json": {
       "model_id": "",
       "version_major": 2,
       "version_minor": 0
      },
      "text/plain": [
       "FloatProgress(value=0.0, bar_style='info', description='Progress:', layout=Layout(height='25px', width='50%'),…"
      ]
     },
     "metadata": {},
     "output_type": "display_data"
    }
   ],
   "source": [
    "#no_duplicated_rows.show()"
   ]
  },
  {
   "cell_type": "code",
   "execution_count": 13,
   "metadata": {},
   "outputs": [
    {
     "data": {
      "application/vnd.jupyter.widget-view+json": {
       "model_id": "b00cdca7dba049188ac398c707738634",
       "version_major": 2,
       "version_minor": 0
      },
      "text/plain": [
       "VBox()"
      ]
     },
     "metadata": {},
     "output_type": "display_data"
    },
    {
     "data": {
      "application/vnd.jupyter.widget-view+json": {
       "model_id": "",
       "version_major": 2,
       "version_minor": 0
      },
      "text/plain": [
       "FloatProgress(value=0.0, bar_style='info', description='Progress:', layout=Layout(height='25px', width='50%'),…"
      ]
     },
     "metadata": {},
     "output_type": "display_data"
    }
   ],
   "source": [
    "# (\n",
    "#     no_duplicated_rows\n",
    "#     .where('video_id == IThIVh9MpQw')\n",
    "#     .show()\n",
    "# )\n",
    "# #Doch wichtig ist"
   ]
  },
  {
   "cell_type": "code",
   "execution_count": 14,
   "metadata": {},
   "outputs": [
    {
     "data": {
      "application/vnd.jupyter.widget-view+json": {
       "model_id": "57cdcdf229224f628034b29c1f08e727",
       "version_major": 2,
       "version_minor": 0
      },
      "text/plain": [
       "VBox()"
      ]
     },
     "metadata": {},
     "output_type": "display_data"
    },
    {
     "data": {
      "application/vnd.jupyter.widget-view+json": {
       "model_id": "",
       "version_major": 2,
       "version_minor": 0
      },
      "text/plain": [
       "FloatProgress(value=0.0, bar_style='info', description='Progress:', layout=Layout(height='25px', width='50%'),…"
      ]
     },
     "metadata": {},
     "output_type": "display_data"
    },
    {
     "name": "stdout",
     "output_type": "stream",
     "text": [
      "'\"import pyspark.sql.functions as fn\\n\\nno_duplicated_rows.agg(\\n      fn.count(\\'video_id\\').alias(\\'CountOfIDs\\')\\n    , fn.countDistinct(\\'video_id\\').alias(\\'CountOfDistinctIDs\\')\\n).show() '"
     ]
    }
   ],
   "source": [
    "#commented out\n",
    "# are there any duplicated IDs?\n",
    "\"\"\"\"import pyspark.sql.functions as fn\n",
    "\n",
    "no_duplicated_rows.agg(\n",
    "      fn.count('video_id').alias('CountOfIDs')\n",
    "    , fn.countDistinct('video_id').alias('CountOfDistinctIDs')\n",
    ").show() \"\"\""
   ]
  },
  {
   "cell_type": "markdown",
   "metadata": {},
   "source": [
    "### Handling Missing Values"
   ]
  },
  {
   "cell_type": "markdown",
   "metadata": {},
   "source": [
    "#### Missing Observations in Rows"
   ]
  },
  {
   "cell_type": "code",
   "execution_count": 15,
   "metadata": {},
   "outputs": [
    {
     "data": {
      "application/vnd.jupyter.widget-view+json": {
       "model_id": "933d7a131a4a423e8afcb44710012b33",
       "version_major": 2,
       "version_minor": 0
      },
      "text/plain": [
       "VBox()"
      ]
     },
     "metadata": {},
     "output_type": "display_data"
    },
    {
     "data": {
      "application/vnd.jupyter.widget-view+json": {
       "model_id": "",
       "version_major": 2,
       "version_minor": 0
      },
      "text/plain": [
       "FloatProgress(value=0.0, bar_style='info', description='Progress:', layout=Layout(height='25px', width='50%'),…"
      ]
     },
     "metadata": {},
     "output_type": "display_data"
    },
    {
     "name": "stdout",
     "output_type": "stream",
     "text": [
      "27109"
     ]
    }
   ],
   "source": [
    "#examine if there are any rows with missing values\n",
    "no_duplicated_rows.rdd.map(\n",
    "           lambda row: (\n",
    "                 row['video_id']\n",
    "               , sum([c == None for c in row])\n",
    "           )\n",
    "        )\\\n",
    "        .filter(lambda y: y[1] >= 1)\\\n",
    "        .count()"
   ]
  },
  {
   "cell_type": "code",
   "execution_count": 16,
   "metadata": {},
   "outputs": [
    {
     "data": {
      "application/vnd.jupyter.widget-view+json": {
       "model_id": "aa03ab22d7474f9c8f6da6224c9aa026",
       "version_major": 2,
       "version_minor": 0
      },
      "text/plain": [
       "VBox()"
      ]
     },
     "metadata": {},
     "output_type": "display_data"
    },
    {
     "data": {
      "application/vnd.jupyter.widget-view+json": {
       "model_id": "",
       "version_major": 2,
       "version_minor": 0
      },
      "text/plain": [
       "FloatProgress(value=0.0, bar_style='info', description='Progress:', layout=Layout(height='25px', width='50%'),…"
      ]
     },
     "metadata": {},
     "output_type": "display_data"
    },
    {
     "name": "stdout",
     "output_type": "stream",
     "text": [
      "(364423, 363068)"
     ]
    }
   ],
   "source": [
    "#drop rows that have less than thresh NON-NULL values. \n",
    "#drop values that have less than 10 non-null values\n",
    "df_row_threshold = no_duplicated_rows.dropna(thresh=10)\n",
    "no_duplicated_rows.count(), df_row_threshold.count()"
   ]
  },
  {
   "cell_type": "markdown",
   "metadata": {},
   "source": [
    "#### Missing Observations per column"
   ]
  },
  {
   "cell_type": "code",
   "execution_count": 18,
   "metadata": {},
   "outputs": [
    {
     "data": {
      "application/vnd.jupyter.widget-view+json": {
       "model_id": "c7168eabe5c3433aa5266ac70b83d0b4",
       "version_major": 2,
       "version_minor": 0
      },
      "text/plain": [
       "VBox()"
      ]
     },
     "metadata": {},
     "output_type": "display_data"
    },
    {
     "data": {
      "application/vnd.jupyter.widget-view+json": {
       "model_id": "",
       "version_major": 2,
       "version_minor": 0
      },
      "text/plain": [
       "FloatProgress(value=0.0, bar_style='info', description='Progress:', layout=Layout(height='25px', width='50%'),…"
      ]
     },
     "metadata": {},
     "output_type": "display_data"
    },
    {
     "name": "stdout",
     "output_type": "stream",
     "text": [
      "description_miss 0.055155684465579835\n",
      "category_name_miss 0.023930981304692622\n",
      "region_miss 0.01652200876454013\n",
      "video_error_or_removed_miss 0.003871874168205669\n",
      "ratings_disabled_miss 0.0038636419764943586\n",
      "comments_disabled_miss 0.003847177593071738\n",
      "thumbnail_link_miss 0.0038252250818416877\n",
      "comment_count_miss 0.0038005285067078676\n",
      "dislikes_miss 0.0037758319315740474\n",
      "likes_miss 0.0037182065895950966\n",
      "views_miss 0.003644116864193525\n",
      "tags_miss 0.0030047499746174156\n",
      "publish_time_miss 0.0027934570540278925\n",
      "category_id_miss 0.0022940374235435046\n",
      "publish_date_miss 0.0019620056911885397\n",
      "channel_title_miss 0.001487282635837972\n",
      "title_miss 0.0008396835545506631\n",
      "trending_date_miss 5.488127807540266e-06\n",
      "video_id_miss 0.0"
     ]
    }
   ],
   "source": [
    "import pyspark.sql.functions as fn\n",
    "\n",
    "#count percentage of missing values in each column\n",
    "for k, v in sorted(\n",
    "    no_duplicated_rows.agg(*[\n",
    "               (1 - (fn.count(c) / fn.count('*')))\n",
    "                    .alias(c + '_miss')\n",
    "               for c in no_duplicated_rows.columns\n",
    "           ])\n",
    "        .collect()[0]\n",
    "        .asDict()\n",
    "        .items()\n",
    "    , key=lambda el: el[1]\n",
    "    , reverse=True\n",
    "):\n",
    "    print(k, v)"
   ]
  },
  {
   "cell_type": "code",
   "execution_count": 19,
   "metadata": {},
   "outputs": [
    {
     "data": {
      "application/vnd.jupyter.widget-view+json": {
       "model_id": "c12abab4b48f41deb85644a5313309e3",
       "version_major": 2,
       "version_minor": 0
      },
      "text/plain": [
       "VBox()"
      ]
     },
     "metadata": {},
     "output_type": "display_data"
    },
    {
     "data": {
      "application/vnd.jupyter.widget-view+json": {
       "model_id": "",
       "version_major": 2,
       "version_minor": 0
      },
      "text/plain": [
       "FloatProgress(value=0.0, bar_style='info', description='Progress:', layout=Layout(height='25px', width='50%'),…"
      ]
     },
     "metadata": {},
     "output_type": "display_data"
    }
   ],
   "source": [
    "#Column null percentage is low no need to remove"
   ]
  },
  {
   "cell_type": "code",
   "execution_count": null,
   "metadata": {},
   "outputs": [],
   "source": [
    "# #Possible change to 1???\n",
    "\n",
    "# df_row_threshold = no_duplicated_rows.dropna(thresh=10)\n",
    "# no_duplicated_rows.count(), df_row_threshold.count()"
   ]
  },
  {
   "cell_type": "code",
   "execution_count": null,
   "metadata": {},
   "outputs": [],
   "source": []
  }
 ],
 "metadata": {
  "kernelspec": {
   "display_name": "PySpark",
   "language": "",
   "name": "pysparkkernel"
  },
  "language_info": {
   "codemirror_mode": {
    "name": "python",
    "version": 2
   },
   "mimetype": "text/x-python",
   "name": "pyspark",
   "pygments_lexer": "python2"
  }
 },
 "nbformat": 4,
 "nbformat_minor": 4
}
